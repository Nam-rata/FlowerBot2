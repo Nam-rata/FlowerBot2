{
 "cells": [
  {
   "cell_type": "code",
   "execution_count": 1,
   "metadata": {},
   "outputs": [
    {
     "name": "stdout",
     "output_type": "stream",
     "text": [
      "[nltk_data] Downloading package punkt to\n",
      "[nltk_data]     C:\\Users\\vivek\\AppData\\Roaming\\nltk_data...\n",
      "[nltk_data]   Package punkt is already up-to-date!\n"
     ]
    },
    {
     "name": "stderr",
     "output_type": "stream",
     "text": [
      "C:\\Users\\vivek\\Anaconda3\\envs\\chatbot\\lib\\site-packages\\h5py\\__init__.py:36: FutureWarning: Conversion of the second argument of issubdtype from `float` to `np.floating` is deprecated. In future, it will be treated as `np.float64 == np.dtype(float).type`.\n",
      "  from ._conv import register_converters as _register_converters\n",
      "Using TensorFlow backend.\n"
     ]
    }
   ],
   "source": [
    "# things we need for NLP\n",
    "import nltk\n",
    "nltk.download('punkt')\n",
    "from nltk.stem.lancaster import LancasterStemmer\n",
    "stemmer = LancasterStemmer()\n",
    "\n",
    "import numpy as np\n",
    "import random\n",
    "from tensorflow import keras\n",
    "from keras.models import load_model"
   ]
  },
  {
   "cell_type": "code",
   "execution_count": 2,
   "metadata": {},
   "outputs": [],
   "source": [
    "# import our chat-bot intents file\n",
    "import json\n",
    "with open('intents.json') as json_data:\n",
    "    intents = json.load(json_data)"
   ]
  },
  {
   "cell_type": "code",
   "execution_count": 3,
   "metadata": {},
   "outputs": [
    {
     "name": "stdout",
     "output_type": "stream",
     "text": [
      "198 documents\n",
      "28 classes ['CourseB.Tech', 'accreditation', 'affirmative', 'btechandmbatechadmissions', 'emoticons', 'generalfeestructure', 'goodbye', 'greeting', 'hours', 'integratedprograms', 'noanswer', 'offensivewords', 'opentoday', 'otherprogramsadmissions', 'postgradprograms', 'streamartificialintelligence', 'thanks', 'undergradprograms', 'whyArtificialIntelligence', 'whyCS', 'whyCivil', 'whyDataScience', 'whyEXTC', 'whyElectrical', 'whyIT', 'whyIndustrialAutomation', 'whyMechanical', 'whyMechatronics']\n",
      "142 unique stemmed words ['!', \"'s\", '.', 'a', 'about', 'accredit', 'admit', 'ai', 'al', 'alright', 'am', 'and', 'anyon', 'ar', 'art', 'at', 'autom', 'avail', 'b.', 'b.tech', 'bot', 'btech', 'bye', 'camp', 'can', 'cert', 'charg', 'choos', 'civil', 'colleg', 'comput', 'confus', 'cool', 'cours', 'cs', 'dat', 'day', 'degr', 'detail', 'diff', 'do', 'ds', 'dual', 'dumb', 'elect', 'electron', 'engin', 'extc', 'fee', 'fess', 'field', 'fin', 'for', 'get', 'giv', 'good', 'goodby', 'got', 'has', 'hello', 'help', 'hey', 'hi', 'hour', 'how', 'i', 'idiot', 'if', 'in', 'indust', 'info', 'inform', 'intak', 'integr', 'intellig', 'into', 'is', 'it', 'know', 'lat', 'mba', 'mca', 'me', 'mech', 'mechatron', 'mor', 'mpstme', 'mtech', 'much', 'mumba', 'nmim', 'not', 'okay', 'op', 'opt', 'pg', 'pgdm', 'postgrad', 'postgradu', 'prerequisit', 'process', 'program', 'qual', 'receiv', 'requir', 'sci', 'seat', 'see', 'shirp', 'should', 'skil', 'som', 'stream', 'strength', 'stupid', 'tech', 'technolog', 'tel', 'telecommun', 'thank', 'that', 'the', 'ther', 'thi', 'to', 'today', 'tuit', 'u+1f44d', 'u+1f600', 'u+1f603', 'ug', 'undergrad', 'undergradu', 'useless', 'want', 'what', 'when', 'which', 'why', 'ye', 'yo', 'you']\n"
     ]
    }
   ],
   "source": [
    "words = []\n",
    "classes = []\n",
    "documents = []\n",
    "ignore_words = ['?']\n",
    "# loop through each sentence in our intents patterns\n",
    "for intent in intents['intents']:\n",
    "    for pattern in intent['patterns']:\n",
    "        # tokenize each word in the sentence\n",
    "        w = nltk.word_tokenize(pattern)\n",
    "        # add to our words list\n",
    "        words.extend(w)\n",
    "        # add to documents in our corpus\n",
    "        documents.append((w, intent['tag']))\n",
    "        # add to our classes list\n",
    "        if intent['tag'] not in classes:\n",
    "            classes.append(intent['tag'])\n",
    "\n",
    "# stem and lower each word and remove duplicates\n",
    "words = [stemmer.stem(w.lower()) for w in words if w not in ignore_words]\n",
    "words = sorted(list(set(words)))\n",
    "\n",
    "# remove duplicates\n",
    "classes = sorted(list(set(classes)))\n",
    "\n",
    "print (len(documents), \"documents\")\n",
    "print (len(classes), \"classes\", classes)\n",
    "print (len(words), \"unique stemmed words\", words)"
   ]
  },
  {
   "cell_type": "code",
   "execution_count": 4,
   "metadata": {},
   "outputs": [],
   "source": [
    "model = load_model('model_ChatBot.h5')"
   ]
  },
  {
   "cell_type": "code",
   "execution_count": 5,
   "metadata": {},
   "outputs": [],
   "source": [
    "def clean_up_sentence(sentence):\n",
    "    # tokenize the pattern\n",
    "    sentence_words = nltk.word_tokenize(sentence)\n",
    "    # stem each word\n",
    "    sentence_words = [stemmer.stem(word.lower()) for word in sentence_words]\n",
    "    return sentence_words\n",
    "\n",
    "# return bag of words array: 0 or 1 for each word in the bag that exists in the sentence\n",
    "def bow(sentence, words, show_details=False):\n",
    "    # tokenize the pattern\n",
    "    sentence_words = clean_up_sentence(sentence)\n",
    "    # bag of words\n",
    "    bag = [0]*len(words)  \n",
    "    for s in sentence_words:\n",
    "        for i,w in enumerate(words):\n",
    "            if w == s: \n",
    "                bag[i] = 1\n",
    "                if show_details:\n",
    "                    print (\"found in bag: %s\" % w)\n",
    "\n",
    "    return(np.array(bag))"
   ]
  },
  {
   "cell_type": "code",
   "execution_count": 6,
   "metadata": {},
   "outputs": [],
   "source": [
    "# create a data structure to hold user context\n",
    "context = {}\n",
    "\n",
    "ERROR_THRESHOLD = 0.65\n",
    "def classify(sentence):\n",
    "    # generate probabilities from the model\n",
    "    p = bow(sentence, words)\n",
    "    \n",
    "    d = len(p)\n",
    "    f = len(documents)-2\n",
    "    a = np.zeros([f, d])\n",
    "    tot = np.vstack((p,a))\n",
    "    \n",
    "    results = model.predict(tot)[0]\n",
    "    \n",
    "    # filter out predictions below a threshold\n",
    "    results = [[i,r] for i,r in enumerate(results) if r>ERROR_THRESHOLD]\n",
    "    # sort by strength of probability\n",
    "    results.sort(key=lambda x: x[1], reverse=True)\n",
    "    return_list = []\n",
    "    for r in results:\n",
    "        return_list.append((classes[r[0]], r[1]))\n",
    "    # return tuple of intent and probability\n",
    "    return return_list\n",
    "\n",
    "def response(sentence, userID, show_details=False):\n",
    "    results = classify(sentence)\n",
    "    print('Result:',results)\n",
    "    # if we have a classification then find the matching intent tag\n",
    "    if results:\n",
    "        # loop as long as there are matches to process\n",
    "        while results:\n",
    "            for i in intents['intents']:\n",
    "                # find a tag matching the first result\n",
    "                if i['tag'] == results[0][0]:\n",
    "                    # set context for this intent if necessary\n",
    "                    #print(i)\n",
    "                    if 'context_set' in i:\n",
    "                        if show_details: print ('context:', i['context_set'])\n",
    "                        context[userID] = i['context_set']\n",
    "\n",
    "                    # check if this intent is contextual and applies to this user's conversation\n",
    "                    if not 'context_filter' in i or \\\n",
    "                        (userID in context and 'context_filter' in i and i['context_filter'] == context[userID]):\n",
    "                        if show_details: print ('tag:', i['tag'])\n",
    "                        # a random response from the intent\n",
    "                        return (random.choice(i['responses']))\n",
    "            results.pop(0)"
   ]
  },
  {
   "cell_type": "code",
   "execution_count": 7,
   "metadata": {},
   "outputs": [
    {
     "name": "stdout",
     "output_type": "stream",
     "text": [
      "Result: [('noanswer', 0.9972168)]\n",
      "tag: noanswer\n"
     ]
    },
    {
     "data": {
      "text/plain": [
       "\"Sorry, can't understand you\""
      ]
     },
     "execution_count": 7,
     "metadata": {},
     "output_type": "execute_result"
    }
   ],
   "source": [
    "response('i would like to buy a flower', '123', show_details=True)"
   ]
  },
  {
   "cell_type": "code",
   "execution_count": 8,
   "metadata": {},
   "outputs": [
    {
     "data": {
      "text/plain": [
       "{}"
      ]
     },
     "execution_count": 8,
     "metadata": {},
     "output_type": "execute_result"
    }
   ],
   "source": [
    "context"
   ]
  },
  {
   "cell_type": "code",
   "execution_count": 9,
   "metadata": {},
   "outputs": [
    {
     "name": "stdout",
     "output_type": "stream",
     "text": [
      "Result: [('greeting', 1.0)]\n",
      "context: \n",
      "tag: greeting\n"
     ]
    },
    {
     "data": {
      "text/plain": [
       "'Hi there, how can I help?'"
      ]
     },
     "execution_count": 9,
     "metadata": {},
     "output_type": "execute_result"
    }
   ],
   "source": [
    "response('hello there', '123', show_details=True)"
   ]
  },
  {
   "cell_type": "code",
   "execution_count": 10,
   "metadata": {},
   "outputs": [
    {
     "name": "stdout",
     "output_type": "stream",
     "text": [
      "Result: [('noanswer', 0.99999976)]\n",
      "tag: noanswer\n"
     ]
    },
    {
     "data": {
      "text/plain": [
       "'Please give me more info'"
      ]
     },
     "execution_count": 10,
     "metadata": {},
     "output_type": "execute_result"
    }
   ],
   "source": [
    "response('rose', '123', show_details=True)"
   ]
  },
  {
   "cell_type": "code",
   "execution_count": 11,
   "metadata": {},
   "outputs": [
    {
     "data": {
      "text/plain": [
       "{'123': ''}"
      ]
     },
     "execution_count": 11,
     "metadata": {},
     "output_type": "execute_result"
    }
   ],
   "source": [
    "context"
   ]
  },
  {
   "cell_type": "code",
   "execution_count": 12,
   "metadata": {},
   "outputs": [
    {
     "name": "stdout",
     "output_type": "stream",
     "text": [
      "Result: [('accreditation', 0.9999999)]\n",
      "tag: accreditation\n"
     ]
    },
    {
     "data": {
      "text/plain": [
       "'NBA Accreditation: Computer Engineering & Electronics and Telecommunication Programs have been accredited by National Board of Accreditation under Tier â€“ I for two years. (implies international accreditation)'"
      ]
     },
     "execution_count": 12,
     "metadata": {},
     "output_type": "execute_result"
    }
   ],
   "source": [
    "response('accreditations','123',show_details=True)"
   ]
  },
  {
   "cell_type": "code",
   "execution_count": 13,
   "metadata": {},
   "outputs": [
    {
     "name": "stdout",
     "output_type": "stream",
     "text": [
      "Result: [('undergradprograms', 1.0)]\n",
      "tag: undergradprograms\n"
     ]
    },
    {
     "data": {
      "text/plain": [
       "'We provide the following Undergraduate Programs - B. Tech (4 Years after 12th grade), B. Tech Integrated (6 Years after 10th grade)'"
      ]
     },
     "execution_count": 13,
     "metadata": {},
     "output_type": "execute_result"
    }
   ],
   "source": [
    "response('I want to know about the Undergraduate Programs in this college.','123',show_details=True)"
   ]
  },
  {
   "cell_type": "code",
   "execution_count": 14,
   "metadata": {},
   "outputs": [
    {
     "name": "stdout",
     "output_type": "stream",
     "text": [
      "Result: [('whyIndustrialAutomation', 0.70990515)]\n",
      "tag: whyIndustrialAutomation\n"
     ]
    },
    {
     "data": {
      "text/plain": [
       "'I can help you. If you understand Programming and Software Development, PLC, HMI, SCADA Programming, Electronic Basics and you have a Detail-Oriented Personality, then this Industrial Automation course is for you!'"
      ]
     },
     "execution_count": 14,
     "metadata": {},
     "output_type": "execute_result"
    }
   ],
   "source": [
    "response('stream Mechanical','123',show_details=True )"
   ]
  },
  {
   "cell_type": "code",
   "execution_count": 15,
   "metadata": {},
   "outputs": [
    {
     "name": "stdout",
     "output_type": "stream",
     "text": [
      "Result: [('generalfeestructure', 1.0)]\n",
      "tag: generalfeestructure\n"
     ]
    },
    {
     "data": {
      "text/plain": [
       "'Fee structure for various programs at MPSTME: MBA Tech - 3.3-3.7LPA, BTech - 2.7-3.0LPA, BTech Integrated - 2.7-3.0LPA,, PHD - 0.5-0.7LPA, MTech - 1.2LPA, MCA - 1.1LPA, PGDM - 4.9LPA'"
      ]
     },
     "execution_count": 15,
     "metadata": {},
     "output_type": "execute_result"
    }
   ],
   "source": [
    "response('What is the college fees at MPSTME?','123',show_details=True)"
   ]
  },
  {
   "cell_type": "code",
   "execution_count": 16,
   "metadata": {},
   "outputs": [
    {
     "name": "stdout",
     "output_type": "stream",
     "text": [
      "Result: [('CourseB.Tech', 1.0)]\n",
      "tag: CourseB.Tech\n"
     ]
    },
    {
     "data": {
      "text/plain": [
       "'Let me help you! We offer 4 year B. Tech Course for 12th+ Students at our Mumbai and Shirpur campuses. We provide B. Tech Degree in the following streams:\\nElectrical (30 Seats) \\nData Science (60 Seats) \\nInformation Technology (60+60 Seats) \\nComputer Engineering (120+60 Seats) \\nCivil (60 Seats) \\nElectronics and Telecommunication (60+60 Seats) \\nMechatronics (60+60 Seats) \\nMechanical (60+60 Seats) \\n*Seats: Mumbai + Shirpur \\nMinimum 70% in 12th grade required.'"
      ]
     },
     "execution_count": 16,
     "metadata": {},
     "output_type": "execute_result"
    }
   ],
   "source": [
    "response('Tell me about B.Tech course','123',show_details=True)"
   ]
  },
  {
   "cell_type": "code",
   "execution_count": 17,
   "metadata": {},
   "outputs": [
    {
     "name": "stdout",
     "output_type": "stream",
     "text": [
      "Result: [('emoticons', 0.9999999)]\n",
      "tag: emoticons\n"
     ]
    },
    {
     "data": {
      "text/plain": [
       "'U+1F603'"
      ]
     },
     "execution_count": 17,
     "metadata": {},
     "output_type": "execute_result"
    }
   ],
   "source": [
    "response('U+1F44D','123',show_details=True)"
   ]
  },
  {
   "cell_type": "code",
   "execution_count": null,
   "metadata": {},
   "outputs": [],
   "source": []
  }
 ],
 "metadata": {
  "kernelspec": {
   "display_name": "Python 3",
   "language": "python",
   "name": "python3"
  },
  "language_info": {
   "codemirror_mode": {
    "name": "ipython",
    "version": 3
   },
   "file_extension": ".py",
   "mimetype": "text/x-python",
   "name": "python",
   "nbconvert_exporter": "python",
   "pygments_lexer": "ipython3",
   "version": "3.5.5"
  }
 },
 "nbformat": 4,
 "nbformat_minor": 2
}
